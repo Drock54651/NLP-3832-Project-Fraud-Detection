{
 "cells": [
  {
   "cell_type": "markdown",
   "id": "a4248fdb",
   "metadata": {},
   "source": [
    "Data Preprocessing for Fraud Detection"
   ]
  },
  {
   "cell_type": "code",
   "execution_count": 1,
   "id": "8e54da12",
   "metadata": {},
   "outputs": [],
   "source": [
    "import pandas as pd\n",
    "import numpy as np\n",
    "import os\n",
    "import seaborn as sns\n",
    "import matplotlib.pyplot as plt"
   ]
  },
  {
   "cell_type": "code",
   "execution_count": 2,
   "id": "dc2b32a4",
   "metadata": {},
   "outputs": [],
   "source": [
    "import string\n",
    "import nltk\n",
    "from nltk.corpus import stopwords\n",
    "from typing import List, Optional\n",
    "import re\n"
   ]
  },
  {
   "cell_type": "markdown",
   "id": "406c351d",
   "metadata": {},
   "source": [
    "Import the data files and examine the data."
   ]
  },
  {
   "cell_type": "code",
   "execution_count": 3,
   "id": "3e3587d2",
   "metadata": {},
   "outputs": [
    {
     "data": {
      "text/html": [
       "<div>\n",
       "<style scoped>\n",
       "    .dataframe tbody tr th:only-of-type {\n",
       "        vertical-align: middle;\n",
       "    }\n",
       "\n",
       "    .dataframe tbody tr th {\n",
       "        vertical-align: top;\n",
       "    }\n",
       "\n",
       "    .dataframe thead th {\n",
       "        text-align: right;\n",
       "    }\n",
       "</style>\n",
       "<table border=\"1\" class=\"dataframe\">\n",
       "  <thead>\n",
       "    <tr style=\"text-align: right;\">\n",
       "      <th></th>\n",
       "      <th>Unnamed: 0</th>\n",
       "      <th>title</th>\n",
       "      <th>location</th>\n",
       "      <th>requirements</th>\n",
       "      <th>employment_type</th>\n",
       "      <th>industry</th>\n",
       "      <th>function</th>\n",
       "      <th>fraudulent</th>\n",
       "    </tr>\n",
       "  </thead>\n",
       "  <tbody>\n",
       "    <tr>\n",
       "      <th>0</th>\n",
       "      <td>0</td>\n",
       "      <td>Lead UX / UI Designer</td>\n",
       "      <td>US, NY, Brookyn</td>\n",
       "      <td>4+ years of experience in UX / UI design prefe...</td>\n",
       "      <td>Full-time</td>\n",
       "      <td>Internet</td>\n",
       "      <td>Design</td>\n",
       "      <td>Real</td>\n",
       "    </tr>\n",
       "    <tr>\n",
       "      <th>1</th>\n",
       "      <td>1</td>\n",
       "      <td>Technical Manager</td>\n",
       "      <td>GB, CAM, Huntingdon</td>\n",
       "      <td>Food Science/Technology Graduate or similar di...</td>\n",
       "      <td>Full-time</td>\n",
       "      <td>Food Production</td>\n",
       "      <td>Quality Assurance</td>\n",
       "      <td>Real</td>\n",
       "    </tr>\n",
       "    <tr>\n",
       "      <th>2</th>\n",
       "      <td>2</td>\n",
       "      <td>Quality Engineer</td>\n",
       "      <td>US, OH, cincinnati</td>\n",
       "      <td>Job Duties and Responsibilities:AnalysisPerfor...</td>\n",
       "      <td>Full-time</td>\n",
       "      <td>Medical Devices</td>\n",
       "      <td>Engineering</td>\n",
       "      <td>Real</td>\n",
       "    </tr>\n",
       "    <tr>\n",
       "      <th>3</th>\n",
       "      <td>3</td>\n",
       "      <td>International Broadcaster, Lao Service</td>\n",
       "      <td>US, DC, Washington</td>\n",
       "      <td>The International Broadcaster shall have at le...</td>\n",
       "      <td>Not Mentioned</td>\n",
       "      <td>Not Mentioned</td>\n",
       "      <td>Not Mentioned</td>\n",
       "      <td>Real</td>\n",
       "    </tr>\n",
       "    <tr>\n",
       "      <th>4</th>\n",
       "      <td>4</td>\n",
       "      <td>Distribution Specialist</td>\n",
       "      <td>NL, NB, Eindhoven</td>\n",
       "      <td>Experience in professional logistic/warehouse ...</td>\n",
       "      <td>Full-time</td>\n",
       "      <td>Internet</td>\n",
       "      <td>Distribution</td>\n",
       "      <td>Real</td>\n",
       "    </tr>\n",
       "    <tr>\n",
       "      <th>5</th>\n",
       "      <td>5</td>\n",
       "      <td>Insurance Agent</td>\n",
       "      <td>US, PA, Reading</td>\n",
       "      <td>Not Mentioned</td>\n",
       "      <td>Not Mentioned</td>\n",
       "      <td>Not Mentioned</td>\n",
       "      <td>Not Mentioned</td>\n",
       "      <td>Real</td>\n",
       "    </tr>\n",
       "    <tr>\n",
       "      <th>6</th>\n",
       "      <td>6</td>\n",
       "      <td>Chief Commercial Officer</td>\n",
       "      <td>US, NY,</td>\n",
       "      <td>Requisite Capabilities and Characteristics – F...</td>\n",
       "      <td>Full-time</td>\n",
       "      <td>Food &amp; Beverages</td>\n",
       "      <td>Sales</td>\n",
       "      <td>Real</td>\n",
       "    </tr>\n",
       "    <tr>\n",
       "      <th>7</th>\n",
       "      <td>7</td>\n",
       "      <td>UI Designer</td>\n",
       "      <td>US, TX, Austin</td>\n",
       "      <td>Bachelor’s degree in graphic design, web desig...</td>\n",
       "      <td>Full-time</td>\n",
       "      <td>Computer Software</td>\n",
       "      <td>Product Management</td>\n",
       "      <td>Real</td>\n",
       "    </tr>\n",
       "    <tr>\n",
       "      <th>8</th>\n",
       "      <td>8</td>\n",
       "      <td>Fiinovation - Post for Relationship Manager</td>\n",
       "      <td>IN, DL, New Delhi</td>\n",
       "      <td>Desired Candidate Profile: Articulate in Engli...</td>\n",
       "      <td>Full-time</td>\n",
       "      <td>Nonprofit Organization Management</td>\n",
       "      <td>Other</td>\n",
       "      <td>Real</td>\n",
       "    </tr>\n",
       "    <tr>\n",
       "      <th>9</th>\n",
       "      <td>9</td>\n",
       "      <td>Account Management Intern</td>\n",
       "      <td>GB, ,</td>\n",
       "      <td>A good eye for detail.Proven management skills...</td>\n",
       "      <td>Not Mentioned</td>\n",
       "      <td>Not Mentioned</td>\n",
       "      <td>Not Mentioned</td>\n",
       "      <td>Real</td>\n",
       "    </tr>\n",
       "  </tbody>\n",
       "</table>\n",
       "</div>"
      ],
      "text/plain": [
       "   Unnamed: 0                                        title  \\\n",
       "0           0                        Lead UX / UI Designer   \n",
       "1           1                            Technical Manager   \n",
       "2           2                             Quality Engineer   \n",
       "3           3      International Broadcaster, Lao Service    \n",
       "4           4                      Distribution Specialist   \n",
       "5           5                              Insurance Agent   \n",
       "6           6                     Chief Commercial Officer   \n",
       "7           7                                  UI Designer   \n",
       "8           8  Fiinovation - Post for Relationship Manager   \n",
       "9           9                   Account Management Intern    \n",
       "\n",
       "              location                                       requirements  \\\n",
       "0      US, NY, Brookyn  4+ years of experience in UX / UI design prefe...   \n",
       "1  GB, CAM, Huntingdon  Food Science/Technology Graduate or similar di...   \n",
       "2   US, OH, cincinnati  Job Duties and Responsibilities:AnalysisPerfor...   \n",
       "3   US, DC, Washington  The International Broadcaster shall have at le...   \n",
       "4    NL, NB, Eindhoven  Experience in professional logistic/warehouse ...   \n",
       "5      US, PA, Reading                                      Not Mentioned   \n",
       "6             US, NY,   Requisite Capabilities and Characteristics – F...   \n",
       "7       US, TX, Austin  Bachelor’s degree in graphic design, web desig...   \n",
       "8    IN, DL, New Delhi  Desired Candidate Profile: Articulate in Engli...   \n",
       "9               GB, ,   A good eye for detail.Proven management skills...   \n",
       "\n",
       "  employment_type                           industry            function  \\\n",
       "0       Full-time                           Internet              Design   \n",
       "1       Full-time                    Food Production   Quality Assurance   \n",
       "2       Full-time                    Medical Devices         Engineering   \n",
       "3   Not Mentioned                      Not Mentioned       Not Mentioned   \n",
       "4       Full-time                           Internet        Distribution   \n",
       "5   Not Mentioned                      Not Mentioned       Not Mentioned   \n",
       "6       Full-time                   Food & Beverages               Sales   \n",
       "7       Full-time                  Computer Software  Product Management   \n",
       "8       Full-time  Nonprofit Organization Management               Other   \n",
       "9   Not Mentioned                      Not Mentioned       Not Mentioned   \n",
       "\n",
       "  fraudulent  \n",
       "0       Real  \n",
       "1       Real  \n",
       "2       Real  \n",
       "3       Real  \n",
       "4       Real  \n",
       "5       Real  \n",
       "6       Real  \n",
       "7       Real  \n",
       "8       Real  \n",
       "9       Real  "
      ]
     },
     "execution_count": 3,
     "metadata": {},
     "output_type": "execute_result"
    }
   ],
   "source": [
    "# job postings dataset\n",
    "job_df = pd.read_csv('data/Fake_Real_Job_Posting.csv')\n",
    "job_df.head(10)"
   ]
  },
  {
   "cell_type": "code",
   "execution_count": 4,
   "id": "e7f0acc8",
   "metadata": {},
   "outputs": [
    {
     "data": {
      "text/html": [
       "<div>\n",
       "<style scoped>\n",
       "    .dataframe tbody tr th:only-of-type {\n",
       "        vertical-align: middle;\n",
       "    }\n",
       "\n",
       "    .dataframe tbody tr th {\n",
       "        vertical-align: top;\n",
       "    }\n",
       "\n",
       "    .dataframe thead th {\n",
       "        text-align: right;\n",
       "    }\n",
       "</style>\n",
       "<table border=\"1\" class=\"dataframe\">\n",
       "  <thead>\n",
       "    <tr style=\"text-align: right;\">\n",
       "      <th></th>\n",
       "      <th>sms</th>\n",
       "      <th>label</th>\n",
       "    </tr>\n",
       "  </thead>\n",
       "  <tbody>\n",
       "    <tr>\n",
       "      <th>0</th>\n",
       "      <td>Go until jurong point, crazy.. Available only ...</td>\n",
       "      <td>0</td>\n",
       "    </tr>\n",
       "    <tr>\n",
       "      <th>1</th>\n",
       "      <td>Ok lar... Joking wif u oni...\\n</td>\n",
       "      <td>0</td>\n",
       "    </tr>\n",
       "    <tr>\n",
       "      <th>2</th>\n",
       "      <td>Free entry in 2 a wkly comp to win FA Cup fina...</td>\n",
       "      <td>1</td>\n",
       "    </tr>\n",
       "    <tr>\n",
       "      <th>3</th>\n",
       "      <td>U dun say so early hor... U c already then say...</td>\n",
       "      <td>0</td>\n",
       "    </tr>\n",
       "    <tr>\n",
       "      <th>4</th>\n",
       "      <td>Nah I don't think he goes to usf, he lives aro...</td>\n",
       "      <td>0</td>\n",
       "    </tr>\n",
       "    <tr>\n",
       "      <th>5</th>\n",
       "      <td>FreeMsg Hey there darling it's been 3 week's n...</td>\n",
       "      <td>1</td>\n",
       "    </tr>\n",
       "    <tr>\n",
       "      <th>6</th>\n",
       "      <td>Even my brother is not like to speak with me. ...</td>\n",
       "      <td>0</td>\n",
       "    </tr>\n",
       "    <tr>\n",
       "      <th>7</th>\n",
       "      <td>As per your request 'Melle Melle (Oru Minnamin...</td>\n",
       "      <td>0</td>\n",
       "    </tr>\n",
       "    <tr>\n",
       "      <th>8</th>\n",
       "      <td>WINNER!! As a valued network customer you have...</td>\n",
       "      <td>1</td>\n",
       "    </tr>\n",
       "    <tr>\n",
       "      <th>9</th>\n",
       "      <td>Had your mobile 11 months or more? U R entitle...</td>\n",
       "      <td>1</td>\n",
       "    </tr>\n",
       "  </tbody>\n",
       "</table>\n",
       "</div>"
      ],
      "text/plain": [
       "                                                 sms  label\n",
       "0  Go until jurong point, crazy.. Available only ...      0\n",
       "1                    Ok lar... Joking wif u oni...\\n      0\n",
       "2  Free entry in 2 a wkly comp to win FA Cup fina...      1\n",
       "3  U dun say so early hor... U c already then say...      0\n",
       "4  Nah I don't think he goes to usf, he lives aro...      0\n",
       "5  FreeMsg Hey there darling it's been 3 week's n...      1\n",
       "6  Even my brother is not like to speak with me. ...      0\n",
       "7  As per your request 'Melle Melle (Oru Minnamin...      0\n",
       "8  WINNER!! As a valued network customer you have...      1\n",
       "9  Had your mobile 11 months or more? U R entitle...      1"
      ]
     },
     "execution_count": 4,
     "metadata": {},
     "output_type": "execute_result"
    }
   ],
   "source": [
    "# sms spam dataset\n",
    "from datasets import load_dataset\n",
    "\n",
    "ds= load_dataset(\"ucirvine/sms_spam\")\n",
    "sms_df = ds[\"train\"].to_pandas()\n",
    "sms_df.head(10)"
   ]
  },
  {
   "cell_type": "code",
   "execution_count": 5,
   "id": "e2a7df05",
   "metadata": {},
   "outputs": [
    {
     "data": {
      "text/html": [
       "<div>\n",
       "<style scoped>\n",
       "    .dataframe tbody tr th:only-of-type {\n",
       "        vertical-align: middle;\n",
       "    }\n",
       "\n",
       "    .dataframe tbody tr th {\n",
       "        vertical-align: top;\n",
       "    }\n",
       "\n",
       "    .dataframe thead th {\n",
       "        text-align: right;\n",
       "    }\n",
       "</style>\n",
       "<table border=\"1\" class=\"dataframe\">\n",
       "  <thead>\n",
       "    <tr style=\"text-align: right;\">\n",
       "      <th></th>\n",
       "      <th>label</th>\n",
       "      <th>text</th>\n",
       "    </tr>\n",
       "  </thead>\n",
       "  <tbody>\n",
       "    <tr>\n",
       "      <th>0</th>\n",
       "      <td>Spam</td>\n",
       "      <td>viiiiiiagraaaa\\nonly for the ones that want to...</td>\n",
       "    </tr>\n",
       "    <tr>\n",
       "      <th>1</th>\n",
       "      <td>Ham</td>\n",
       "      <td>got ice thought look az original message ice o...</td>\n",
       "    </tr>\n",
       "    <tr>\n",
       "      <th>2</th>\n",
       "      <td>Spam</td>\n",
       "      <td>yo ur wom an ne eds an escapenumber in ch ma n...</td>\n",
       "    </tr>\n",
       "    <tr>\n",
       "      <th>3</th>\n",
       "      <td>Spam</td>\n",
       "      <td>start increasing your odds of success &amp; live s...</td>\n",
       "    </tr>\n",
       "    <tr>\n",
       "      <th>4</th>\n",
       "      <td>Ham</td>\n",
       "      <td>author jra date escapenumber escapenumber esca...</td>\n",
       "    </tr>\n",
       "    <tr>\n",
       "      <th>5</th>\n",
       "      <td>Spam</td>\n",
       "      <td>img src escapenumberd http loan co kr img emai...</td>\n",
       "    </tr>\n",
       "    <tr>\n",
       "      <th>6</th>\n",
       "      <td>Ham</td>\n",
       "      <td>attached is the weekly deal report from 10 / 1...</td>\n",
       "    </tr>\n",
       "    <tr>\n",
       "      <th>7</th>\n",
       "      <td>Ham</td>\n",
       "      <td>this is the version that we created earlier th...</td>\n",
       "    </tr>\n",
       "    <tr>\n",
       "      <th>8</th>\n",
       "      <td>Ham</td>\n",
       "      <td>pulp writing printing paper escapenumber escap...</td>\n",
       "    </tr>\n",
       "    <tr>\n",
       "      <th>9</th>\n",
       "      <td>Ham</td>\n",
       "      <td>stefan metze metzmacher writes stefan metze m...</td>\n",
       "    </tr>\n",
       "  </tbody>\n",
       "</table>\n",
       "</div>"
      ],
      "text/plain": [
       "  label                                               text\n",
       "0  Spam  viiiiiiagraaaa\\nonly for the ones that want to...\n",
       "1   Ham  got ice thought look az original message ice o...\n",
       "2  Spam  yo ur wom an ne eds an escapenumber in ch ma n...\n",
       "3  Spam  start increasing your odds of success & live s...\n",
       "4   Ham  author jra date escapenumber escapenumber esca...\n",
       "5  Spam  img src escapenumberd http loan co kr img emai...\n",
       "6   Ham  attached is the weekly deal report from 10 / 1...\n",
       "7   Ham  this is the version that we created earlier th...\n",
       "8   Ham  pulp writing printing paper escapenumber escap...\n",
       "9   Ham   stefan metze metzmacher writes stefan metze m..."
      ]
     },
     "execution_count": 5,
     "metadata": {},
     "output_type": "execute_result"
    }
   ],
   "source": [
    "# email spam dataset\n",
    "email_df = pd.read_csv(\"data/spam_Emails_data.csv\")\n",
    "email_df.head(10)"
   ]
  },
  {
   "cell_type": "markdown",
   "id": "5b45ae37",
   "metadata": {},
   "source": [
    "Drop the 'Unnamed: 0' column as it doesn't bring any value to the job postings dataset and is numerical."
   ]
  },
  {
   "cell_type": "code",
   "execution_count": 6,
   "id": "56a59a00",
   "metadata": {},
   "outputs": [
    {
     "data": {
      "text/html": [
       "<div>\n",
       "<style scoped>\n",
       "    .dataframe tbody tr th:only-of-type {\n",
       "        vertical-align: middle;\n",
       "    }\n",
       "\n",
       "    .dataframe tbody tr th {\n",
       "        vertical-align: top;\n",
       "    }\n",
       "\n",
       "    .dataframe thead th {\n",
       "        text-align: right;\n",
       "    }\n",
       "</style>\n",
       "<table border=\"1\" class=\"dataframe\">\n",
       "  <thead>\n",
       "    <tr style=\"text-align: right;\">\n",
       "      <th></th>\n",
       "      <th>title</th>\n",
       "      <th>location</th>\n",
       "      <th>requirements</th>\n",
       "      <th>employment_type</th>\n",
       "      <th>industry</th>\n",
       "      <th>function</th>\n",
       "      <th>fraudulent</th>\n",
       "    </tr>\n",
       "  </thead>\n",
       "  <tbody>\n",
       "    <tr>\n",
       "      <th>0</th>\n",
       "      <td>Lead UX / UI Designer</td>\n",
       "      <td>US, NY, Brookyn</td>\n",
       "      <td>4+ years of experience in UX / UI design prefe...</td>\n",
       "      <td>Full-time</td>\n",
       "      <td>Internet</td>\n",
       "      <td>Design</td>\n",
       "      <td>Real</td>\n",
       "    </tr>\n",
       "    <tr>\n",
       "      <th>1</th>\n",
       "      <td>Technical Manager</td>\n",
       "      <td>GB, CAM, Huntingdon</td>\n",
       "      <td>Food Science/Technology Graduate or similar di...</td>\n",
       "      <td>Full-time</td>\n",
       "      <td>Food Production</td>\n",
       "      <td>Quality Assurance</td>\n",
       "      <td>Real</td>\n",
       "    </tr>\n",
       "    <tr>\n",
       "      <th>2</th>\n",
       "      <td>Quality Engineer</td>\n",
       "      <td>US, OH, cincinnati</td>\n",
       "      <td>Job Duties and Responsibilities:AnalysisPerfor...</td>\n",
       "      <td>Full-time</td>\n",
       "      <td>Medical Devices</td>\n",
       "      <td>Engineering</td>\n",
       "      <td>Real</td>\n",
       "    </tr>\n",
       "    <tr>\n",
       "      <th>3</th>\n",
       "      <td>International Broadcaster, Lao Service</td>\n",
       "      <td>US, DC, Washington</td>\n",
       "      <td>The International Broadcaster shall have at le...</td>\n",
       "      <td>Not Mentioned</td>\n",
       "      <td>Not Mentioned</td>\n",
       "      <td>Not Mentioned</td>\n",
       "      <td>Real</td>\n",
       "    </tr>\n",
       "    <tr>\n",
       "      <th>4</th>\n",
       "      <td>Distribution Specialist</td>\n",
       "      <td>NL, NB, Eindhoven</td>\n",
       "      <td>Experience in professional logistic/warehouse ...</td>\n",
       "      <td>Full-time</td>\n",
       "      <td>Internet</td>\n",
       "      <td>Distribution</td>\n",
       "      <td>Real</td>\n",
       "    </tr>\n",
       "    <tr>\n",
       "      <th>5</th>\n",
       "      <td>Insurance Agent</td>\n",
       "      <td>US, PA, Reading</td>\n",
       "      <td>Not Mentioned</td>\n",
       "      <td>Not Mentioned</td>\n",
       "      <td>Not Mentioned</td>\n",
       "      <td>Not Mentioned</td>\n",
       "      <td>Real</td>\n",
       "    </tr>\n",
       "    <tr>\n",
       "      <th>6</th>\n",
       "      <td>Chief Commercial Officer</td>\n",
       "      <td>US, NY,</td>\n",
       "      <td>Requisite Capabilities and Characteristics – F...</td>\n",
       "      <td>Full-time</td>\n",
       "      <td>Food &amp; Beverages</td>\n",
       "      <td>Sales</td>\n",
       "      <td>Real</td>\n",
       "    </tr>\n",
       "    <tr>\n",
       "      <th>7</th>\n",
       "      <td>UI Designer</td>\n",
       "      <td>US, TX, Austin</td>\n",
       "      <td>Bachelor’s degree in graphic design, web desig...</td>\n",
       "      <td>Full-time</td>\n",
       "      <td>Computer Software</td>\n",
       "      <td>Product Management</td>\n",
       "      <td>Real</td>\n",
       "    </tr>\n",
       "    <tr>\n",
       "      <th>8</th>\n",
       "      <td>Fiinovation - Post for Relationship Manager</td>\n",
       "      <td>IN, DL, New Delhi</td>\n",
       "      <td>Desired Candidate Profile: Articulate in Engli...</td>\n",
       "      <td>Full-time</td>\n",
       "      <td>Nonprofit Organization Management</td>\n",
       "      <td>Other</td>\n",
       "      <td>Real</td>\n",
       "    </tr>\n",
       "    <tr>\n",
       "      <th>9</th>\n",
       "      <td>Account Management Intern</td>\n",
       "      <td>GB, ,</td>\n",
       "      <td>A good eye for detail.Proven management skills...</td>\n",
       "      <td>Not Mentioned</td>\n",
       "      <td>Not Mentioned</td>\n",
       "      <td>Not Mentioned</td>\n",
       "      <td>Real</td>\n",
       "    </tr>\n",
       "  </tbody>\n",
       "</table>\n",
       "</div>"
      ],
      "text/plain": [
       "                                         title             location  \\\n",
       "0                        Lead UX / UI Designer      US, NY, Brookyn   \n",
       "1                            Technical Manager  GB, CAM, Huntingdon   \n",
       "2                             Quality Engineer   US, OH, cincinnati   \n",
       "3      International Broadcaster, Lao Service    US, DC, Washington   \n",
       "4                      Distribution Specialist    NL, NB, Eindhoven   \n",
       "5                              Insurance Agent      US, PA, Reading   \n",
       "6                     Chief Commercial Officer             US, NY,    \n",
       "7                                  UI Designer       US, TX, Austin   \n",
       "8  Fiinovation - Post for Relationship Manager    IN, DL, New Delhi   \n",
       "9                   Account Management Intern                GB, ,    \n",
       "\n",
       "                                        requirements employment_type  \\\n",
       "0  4+ years of experience in UX / UI design prefe...       Full-time   \n",
       "1  Food Science/Technology Graduate or similar di...       Full-time   \n",
       "2  Job Duties and Responsibilities:AnalysisPerfor...       Full-time   \n",
       "3  The International Broadcaster shall have at le...   Not Mentioned   \n",
       "4  Experience in professional logistic/warehouse ...       Full-time   \n",
       "5                                      Not Mentioned   Not Mentioned   \n",
       "6  Requisite Capabilities and Characteristics – F...       Full-time   \n",
       "7  Bachelor’s degree in graphic design, web desig...       Full-time   \n",
       "8  Desired Candidate Profile: Articulate in Engli...       Full-time   \n",
       "9  A good eye for detail.Proven management skills...   Not Mentioned   \n",
       "\n",
       "                            industry            function fraudulent  \n",
       "0                           Internet              Design       Real  \n",
       "1                    Food Production   Quality Assurance       Real  \n",
       "2                    Medical Devices         Engineering       Real  \n",
       "3                      Not Mentioned       Not Mentioned       Real  \n",
       "4                           Internet        Distribution       Real  \n",
       "5                      Not Mentioned       Not Mentioned       Real  \n",
       "6                   Food & Beverages               Sales       Real  \n",
       "7                  Computer Software  Product Management       Real  \n",
       "8  Nonprofit Organization Management               Other       Real  \n",
       "9                      Not Mentioned       Not Mentioned       Real  "
      ]
     },
     "execution_count": 6,
     "metadata": {},
     "output_type": "execute_result"
    }
   ],
   "source": [
    "job_df = job_df.drop(columns=['Unnamed: 0'])\n",
    "\n",
    "job_df.head(10)"
   ]
  },
  {
   "cell_type": "markdown",
   "id": "2cf20376",
   "metadata": {},
   "source": [
    "Check for Null values and drop them since only 1 present."
   ]
  },
  {
   "cell_type": "code",
   "execution_count": 7,
   "id": "edeea4d7",
   "metadata": {},
   "outputs": [
    {
     "data": {
      "text/plain": [
       "title              0\n",
       "location           0\n",
       "requirements       1\n",
       "employment_type    0\n",
       "industry           0\n",
       "function           0\n",
       "fraudulent         0\n",
       "dtype: int64"
      ]
     },
     "execution_count": 7,
     "metadata": {},
     "output_type": "execute_result"
    }
   ],
   "source": [
    "job_df.isna().sum()"
   ]
  },
  {
   "cell_type": "code",
   "execution_count": 8,
   "id": "f7cd5f8a",
   "metadata": {},
   "outputs": [
    {
     "data": {
      "text/plain": [
       "title              0\n",
       "location           0\n",
       "requirements       0\n",
       "employment_type    0\n",
       "industry           0\n",
       "function           0\n",
       "fraudulent         0\n",
       "dtype: int64"
      ]
     },
     "execution_count": 8,
     "metadata": {},
     "output_type": "execute_result"
    }
   ],
   "source": [
    "\n",
    "job_df = job_df.dropna()\n",
    "job_df.isna().sum()"
   ]
  },
  {
   "cell_type": "code",
   "execution_count": 9,
   "id": "2edf3daa",
   "metadata": {},
   "outputs": [
    {
     "data": {
      "text/plain": [
       "sms      0\n",
       "label    0\n",
       "dtype: int64"
      ]
     },
     "execution_count": 9,
     "metadata": {},
     "output_type": "execute_result"
    }
   ],
   "source": [
    "sms_df.isna().sum()"
   ]
  },
  {
   "cell_type": "code",
   "execution_count": 10,
   "id": "863783bc",
   "metadata": {},
   "outputs": [
    {
     "data": {
      "text/plain": [
       "label    0\n",
       "text     2\n",
       "dtype: int64"
      ]
     },
     "execution_count": 10,
     "metadata": {},
     "output_type": "execute_result"
    }
   ],
   "source": [
    "email_df.isna().sum()\n"
   ]
  },
  {
   "cell_type": "code",
   "execution_count": 11,
   "id": "97481518",
   "metadata": {},
   "outputs": [
    {
     "data": {
      "text/plain": [
       "label    0\n",
       "text     0\n",
       "dtype: int64"
      ]
     },
     "execution_count": 11,
     "metadata": {},
     "output_type": "execute_result"
    }
   ],
   "source": [
    "email_df = email_df.dropna()\n",
    "email_df.isna().sum()"
   ]
  },
  {
   "cell_type": "markdown",
   "id": "c88bb602",
   "metadata": {},
   "source": [
    "Columns \"title\", \"location\", \"requirements\", \"employment_type\", \"industry\", \"function\" all contain text data relevant to the job posting. Therefore, let's merge them into one column of categorical data.\n",
    "\n",
    "The data in the \"fraudulent\" column is in the format \"Fake\" or \"Real\". Since we're dealing with binary classification, let's convert it to binary format with 1-Fake, 0-Real."
   ]
  },
  {
   "cell_type": "code",
   "execution_count": 12,
   "id": "1e2cfc45",
   "metadata": {},
   "outputs": [
    {
     "data": {
      "text/html": [
       "<div>\n",
       "<style scoped>\n",
       "    .dataframe tbody tr th:only-of-type {\n",
       "        vertical-align: middle;\n",
       "    }\n",
       "\n",
       "    .dataframe tbody tr th {\n",
       "        vertical-align: top;\n",
       "    }\n",
       "\n",
       "    .dataframe thead th {\n",
       "        text-align: right;\n",
       "    }\n",
       "</style>\n",
       "<table border=\"1\" class=\"dataframe\">\n",
       "  <thead>\n",
       "    <tr style=\"text-align: right;\">\n",
       "      <th></th>\n",
       "      <th>text</th>\n",
       "      <th>fraudulent</th>\n",
       "    </tr>\n",
       "  </thead>\n",
       "  <tbody>\n",
       "    <tr>\n",
       "      <th>0</th>\n",
       "      <td>Lead UX / UI Designer US, NY, Brookyn 4+ years...</td>\n",
       "      <td>0</td>\n",
       "    </tr>\n",
       "    <tr>\n",
       "      <th>1</th>\n",
       "      <td>Technical Manager GB, CAM, Huntingdon Food Sci...</td>\n",
       "      <td>0</td>\n",
       "    </tr>\n",
       "    <tr>\n",
       "      <th>2</th>\n",
       "      <td>Quality Engineer US, OH, cincinnati Job Duties...</td>\n",
       "      <td>0</td>\n",
       "    </tr>\n",
       "    <tr>\n",
       "      <th>3</th>\n",
       "      <td>International Broadcaster, Lao Service  US, DC...</td>\n",
       "      <td>0</td>\n",
       "    </tr>\n",
       "    <tr>\n",
       "      <th>4</th>\n",
       "      <td>Distribution Specialist NL, NB, Eindhoven Expe...</td>\n",
       "      <td>0</td>\n",
       "    </tr>\n",
       "    <tr>\n",
       "      <th>5</th>\n",
       "      <td>Insurance Agent US, PA, Reading Not Mentioned ...</td>\n",
       "      <td>0</td>\n",
       "    </tr>\n",
       "    <tr>\n",
       "      <th>6</th>\n",
       "      <td>Chief Commercial Officer US, NY,  Requisite Ca...</td>\n",
       "      <td>0</td>\n",
       "    </tr>\n",
       "    <tr>\n",
       "      <th>7</th>\n",
       "      <td>UI Designer US, TX, Austin Bachelor’s degree i...</td>\n",
       "      <td>0</td>\n",
       "    </tr>\n",
       "    <tr>\n",
       "      <th>8</th>\n",
       "      <td>Fiinovation - Post for Relationship Manager IN...</td>\n",
       "      <td>0</td>\n",
       "    </tr>\n",
       "    <tr>\n",
       "      <th>9</th>\n",
       "      <td>Account Management Intern  GB, ,  A good eye f...</td>\n",
       "      <td>0</td>\n",
       "    </tr>\n",
       "  </tbody>\n",
       "</table>\n",
       "</div>"
      ],
      "text/plain": [
       "                                                text  fraudulent\n",
       "0  Lead UX / UI Designer US, NY, Brookyn 4+ years...           0\n",
       "1  Technical Manager GB, CAM, Huntingdon Food Sci...           0\n",
       "2  Quality Engineer US, OH, cincinnati Job Duties...           0\n",
       "3  International Broadcaster, Lao Service  US, DC...           0\n",
       "4  Distribution Specialist NL, NB, Eindhoven Expe...           0\n",
       "5  Insurance Agent US, PA, Reading Not Mentioned ...           0\n",
       "6  Chief Commercial Officer US, NY,  Requisite Ca...           0\n",
       "7  UI Designer US, TX, Austin Bachelor’s degree i...           0\n",
       "8  Fiinovation - Post for Relationship Manager IN...           0\n",
       "9  Account Management Intern  GB, ,  A good eye f...           0"
      ]
     },
     "execution_count": 12,
     "metadata": {},
     "output_type": "execute_result"
    }
   ],
   "source": [
    "job_df_clean = pd.DataFrame()\n",
    "job_df_clean[\"text\"] = job_df.drop(columns=['fraudulent']).astype(str).agg(' '.join, axis=1)\n",
    "job_df_clean[\"fraudulent\"] = job_df['fraudulent']\n",
    "job_df_clean[\"fraudulent\"] = job_df_clean[\"fraudulent\"].map({\"Fake\": 1, \"Real\": 0})\n",
    "job_df_clean.head(10)"
   ]
  },
  {
   "cell_type": "code",
   "execution_count": 13,
   "id": "63f31567",
   "metadata": {},
   "outputs": [
    {
     "data": {
      "text/html": [
       "<div>\n",
       "<style scoped>\n",
       "    .dataframe tbody tr th:only-of-type {\n",
       "        vertical-align: middle;\n",
       "    }\n",
       "\n",
       "    .dataframe tbody tr th {\n",
       "        vertical-align: top;\n",
       "    }\n",
       "\n",
       "    .dataframe thead th {\n",
       "        text-align: right;\n",
       "    }\n",
       "</style>\n",
       "<table border=\"1\" class=\"dataframe\">\n",
       "  <thead>\n",
       "    <tr style=\"text-align: right;\">\n",
       "      <th></th>\n",
       "      <th>label</th>\n",
       "      <th>text</th>\n",
       "    </tr>\n",
       "  </thead>\n",
       "  <tbody>\n",
       "    <tr>\n",
       "      <th>0</th>\n",
       "      <td>Spam</td>\n",
       "      <td>viiiiiiagraaaa\\nonly for the ones that want to...</td>\n",
       "    </tr>\n",
       "    <tr>\n",
       "      <th>1</th>\n",
       "      <td>Ham</td>\n",
       "      <td>got ice thought look az original message ice o...</td>\n",
       "    </tr>\n",
       "    <tr>\n",
       "      <th>2</th>\n",
       "      <td>Spam</td>\n",
       "      <td>yo ur wom an ne eds an escapenumber in ch ma n...</td>\n",
       "    </tr>\n",
       "    <tr>\n",
       "      <th>3</th>\n",
       "      <td>Spam</td>\n",
       "      <td>start increasing your odds of success &amp; live s...</td>\n",
       "    </tr>\n",
       "    <tr>\n",
       "      <th>4</th>\n",
       "      <td>Ham</td>\n",
       "      <td>author jra date escapenumber escapenumber esca...</td>\n",
       "    </tr>\n",
       "  </tbody>\n",
       "</table>\n",
       "</div>"
      ],
      "text/plain": [
       "  label                                               text\n",
       "0  Spam  viiiiiiagraaaa\\nonly for the ones that want to...\n",
       "1   Ham  got ice thought look az original message ice o...\n",
       "2  Spam  yo ur wom an ne eds an escapenumber in ch ma n...\n",
       "3  Spam  start increasing your odds of success & live s...\n",
       "4   Ham  author jra date escapenumber escapenumber esca..."
      ]
     },
     "execution_count": 13,
     "metadata": {},
     "output_type": "execute_result"
    }
   ],
   "source": [
    "email_df.head()"
   ]
  },
  {
   "cell_type": "code",
   "execution_count": 14,
   "id": "11c781de",
   "metadata": {},
   "outputs": [
    {
     "data": {
      "text/html": [
       "<div>\n",
       "<style scoped>\n",
       "    .dataframe tbody tr th:only-of-type {\n",
       "        vertical-align: middle;\n",
       "    }\n",
       "\n",
       "    .dataframe tbody tr th {\n",
       "        vertical-align: top;\n",
       "    }\n",
       "\n",
       "    .dataframe thead th {\n",
       "        text-align: right;\n",
       "    }\n",
       "</style>\n",
       "<table border=\"1\" class=\"dataframe\">\n",
       "  <thead>\n",
       "    <tr style=\"text-align: right;\">\n",
       "      <th></th>\n",
       "      <th>label</th>\n",
       "      <th>text</th>\n",
       "    </tr>\n",
       "  </thead>\n",
       "  <tbody>\n",
       "    <tr>\n",
       "      <th>0</th>\n",
       "      <td>1</td>\n",
       "      <td>viiiiiiagraaaa\\nonly for the ones that want to...</td>\n",
       "    </tr>\n",
       "    <tr>\n",
       "      <th>1</th>\n",
       "      <td>0</td>\n",
       "      <td>got ice thought look az original message ice o...</td>\n",
       "    </tr>\n",
       "    <tr>\n",
       "      <th>2</th>\n",
       "      <td>1</td>\n",
       "      <td>yo ur wom an ne eds an escapenumber in ch ma n...</td>\n",
       "    </tr>\n",
       "    <tr>\n",
       "      <th>3</th>\n",
       "      <td>1</td>\n",
       "      <td>start increasing your odds of success &amp; live s...</td>\n",
       "    </tr>\n",
       "    <tr>\n",
       "      <th>4</th>\n",
       "      <td>0</td>\n",
       "      <td>author jra date escapenumber escapenumber esca...</td>\n",
       "    </tr>\n",
       "    <tr>\n",
       "      <th>5</th>\n",
       "      <td>1</td>\n",
       "      <td>img src escapenumberd http loan co kr img emai...</td>\n",
       "    </tr>\n",
       "    <tr>\n",
       "      <th>6</th>\n",
       "      <td>0</td>\n",
       "      <td>attached is the weekly deal report from 10 / 1...</td>\n",
       "    </tr>\n",
       "    <tr>\n",
       "      <th>7</th>\n",
       "      <td>0</td>\n",
       "      <td>this is the version that we created earlier th...</td>\n",
       "    </tr>\n",
       "    <tr>\n",
       "      <th>8</th>\n",
       "      <td>0</td>\n",
       "      <td>pulp writing printing paper escapenumber escap...</td>\n",
       "    </tr>\n",
       "    <tr>\n",
       "      <th>9</th>\n",
       "      <td>0</td>\n",
       "      <td>stefan metze metzmacher writes stefan metze m...</td>\n",
       "    </tr>\n",
       "  </tbody>\n",
       "</table>\n",
       "</div>"
      ],
      "text/plain": [
       "   label                                               text\n",
       "0      1  viiiiiiagraaaa\\nonly for the ones that want to...\n",
       "1      0  got ice thought look az original message ice o...\n",
       "2      1  yo ur wom an ne eds an escapenumber in ch ma n...\n",
       "3      1  start increasing your odds of success & live s...\n",
       "4      0  author jra date escapenumber escapenumber esca...\n",
       "5      1  img src escapenumberd http loan co kr img emai...\n",
       "6      0  attached is the weekly deal report from 10 / 1...\n",
       "7      0  this is the version that we created earlier th...\n",
       "8      0  pulp writing printing paper escapenumber escap...\n",
       "9      0   stefan metze metzmacher writes stefan metze m..."
      ]
     },
     "execution_count": 14,
     "metadata": {},
     "output_type": "execute_result"
    }
   ],
   "source": [
    "email_df['label'] = email_df['label'].map({\"Spam\": 1, \"Ham\": 0})\n",
    "email_df.head(10)"
   ]
  },
  {
   "cell_type": "code",
   "execution_count": 15,
   "id": "219e8899",
   "metadata": {},
   "outputs": [
    {
     "data": {
      "text/plain": [
       "fraudulent\n",
       "0    17013\n",
       "1      866\n",
       "Name: count, dtype: int64"
      ]
     },
     "execution_count": 15,
     "metadata": {},
     "output_type": "execute_result"
    }
   ],
   "source": [
    "job_df_clean['fraudulent'].value_counts()"
   ]
  },
  {
   "cell_type": "markdown",
   "id": "ffed5d0a",
   "metadata": {},
   "source": [
    "Create a histogram of the distribution of counts of fraudulent/real job postings. Our data is highly skewed  with 17013 real postings and 866 fake ones."
   ]
  },
  {
   "cell_type": "code",
   "execution_count": 16,
   "id": "dfd8199f",
   "metadata": {},
   "outputs": [
    {
     "data": {
      "image/png": "[encoded data removed]",
      "text/plain": [
       "<Figure size 640x480 with 1 Axes>"
      ]
     },
     "metadata": {},
     "output_type": "display_data"
    }
   ],
   "source": [
    "sns.countplot(data=job_df_clean, x=\"fraudulent\")\n",
    "\n",
    "plt.title(\"Fraudulent Job Postings Counts\")\n",
    "plt.xlabel(\"Fraudulent (1 = Fake, 0 = Real)\")\n",
    "plt.ylabel(\"Count\")\n",
    "plt.show()"
   ]
  },
  {
   "cell_type": "code",
   "execution_count": 17,
   "id": "f1ed5f16",
   "metadata": {},
   "outputs": [
    {
     "data": {
      "text/plain": [
       "label\n",
       "0    4827\n",
       "1     747\n",
       "Name: count, dtype: int64"
      ]
     },
     "execution_count": 17,
     "metadata": {},
     "output_type": "execute_result"
    }
   ],
   "source": [
    "sms_df[\"label\"].value_counts()"
   ]
  },
  {
   "cell_type": "markdown",
   "id": "dc320d3d",
   "metadata": {},
   "source": [
    "Create a histogram of the distribution of counts of fake/real SMS. Our data is skewed  with 4827 real SMS and 747 spam ones."
   ]
  },
  {
   "cell_type": "code",
   "execution_count": 18,
   "id": "0780e4d0",
   "metadata": {},
   "outputs": [
    {
     "data": {
      "image/png": "[encoded data removed]",
      "text/plain": [
       "<Figure size 640x480 with 1 Axes>"
      ]
     },
     "metadata": {},
     "output_type": "display_data"
    }
   ],
   "source": [
    "sns.countplot(data=sms_df, x=\"label\")\n",
    "\n",
    "plt.title(\"SMS Spam Counts\")\n",
    "plt.xlabel(\"Spam (1 = Fake, 0 = Real)\")\n",
    "plt.ylabel(\"Count\")\n",
    "plt.show()"
   ]
  },
  {
   "cell_type": "code",
   "execution_count": 19,
   "id": "fbb8889f",
   "metadata": {},
   "outputs": [
    {
     "data": {
      "text/plain": [
       "label\n",
       "0    102159\n",
       "1     91691\n",
       "Name: count, dtype: int64"
      ]
     },
     "execution_count": 19,
     "metadata": {},
     "output_type": "execute_result"
    }
   ],
   "source": [
    "email_df[\"label\"].value_counts()"
   ]
  },
  {
   "cell_type": "markdown",
   "id": "332580dc",
   "metadata": {},
   "source": [
    "Create a histogram of the distribution of counts of fake/real emails. Our data is quite balanced with 102159 ham emails and 91691 spam ones."
   ]
  },
  {
   "cell_type": "code",
   "execution_count": 20,
   "id": "a52c17c9",
   "metadata": {},
   "outputs": [
    {
     "data": {
      "image/png": "[encoded data removed]",
      "text/plain": [
       "<Figure size 640x480 with 1 Axes>"
      ]
     },
     "metadata": {},
     "output_type": "display_data"
    }
   ],
   "source": [
    "sns.countplot(data=email_df, x=\"label\")\n",
    "\n",
    "plt.title(\"Email Spam Counts\")\n",
    "plt.xlabel(\"Spam or Ham (1 = Spam, 0 = Ham)\")\n",
    "plt.ylabel(\"Count\")\n",
    "plt.show()"
   ]
  },
  {
   "cell_type": "markdown",
   "id": "d027fb43",
   "metadata": {},
   "source": [
    "From our research about preprocessing data for fine-tuning BERT models, it's recommended not to remove stop words or punctuation or lemmatize. BERT computes text representations in context and removing stopwords and punctuation and lemmatizing would just mean removing context which BERT could have used to get better results. However, we're still creating two preprocessing functions one with stopwords and punctuation removed, one with stopwords and punctuation kept. In both, we're converting the text to lowercase, removing numerical characters, hyperlinks and extra whitespaces."
   ]
  },
  {
   "cell_type": "code",
   "execution_count": 21,
   "id": "63276593",
   "metadata": {},
   "outputs": [],
   "source": [
    "# with removing stop words and punctuation\n",
    "def preprocess_remove_sw_punc(text):\n",
    "\ttext = text.lower()  # convert to lowercase\n",
    "\ttext = ''.join([char for char in text if not char.isdigit()]) # remove numerical characters\n",
    "\ttext = re.sub(r'http\\S+|www\\S+|https\\S+', '', text, flags=re.MULTILINE) # remove URLs\n",
    "\ttext = text.translate(str.maketrans(string.punctuation, ' ' * len(string.punctuation)))\n",
    "\n",
    "\tstop_words = set(stopwords.words('english'))\n",
    "\n",
    "\ttext = ' '.join([word for word in text.split() if word not in stop_words]) # remove stop words\n",
    "\n",
    "\ttext = \" \".join(text.split()) # remove extra spaces\n",
    "\n",
    "\n",
    "\treturn text\n",
    "\t"
   ]
  },
  {
   "cell_type": "code",
   "execution_count": 22,
   "id": "b388eb2e",
   "metadata": {},
   "outputs": [],
   "source": [
    "# w/out removing stop words and punctuation\n",
    "def preprocess(text):\n",
    "\ttext = text.lower()  # convert to lowercase\n",
    "\ttext = ''.join([char for char in text if not char.isdigit()]) # remove numerical characters\n",
    "\ttext = re.sub(r'http\\S+|www\\S+|https\\S+', '', text, flags=re.MULTILINE) # remove URLs\n",
    "\ttext = \" \".join(text.split()) # remove extra spaces\n",
    "\n",
    "\treturn text\n"
   ]
  },
  {
   "cell_type": "code",
   "execution_count": 23,
   "id": "ff4418b1",
   "metadata": {},
   "outputs": [],
   "source": [
    "# remove stop words and punctuation\n",
    "job_df_clean_no_sw = job_df_clean.copy()\n",
    "job_df_clean_no_sw[\"text\"] = job_df_clean[\"text\"].apply(preprocess_remove_sw_punc)"
   ]
  },
  {
   "cell_type": "code",
   "execution_count": 24,
   "id": "cb5b5380",
   "metadata": {},
   "outputs": [
    {
     "data": {
      "text/html": [
       "<div>\n",
       "<style scoped>\n",
       "    .dataframe tbody tr th:only-of-type {\n",
       "        vertical-align: middle;\n",
       "    }\n",
       "\n",
       "    .dataframe tbody tr th {\n",
       "        vertical-align: top;\n",
       "    }\n",
       "\n",
       "    .dataframe thead th {\n",
       "        text-align: right;\n",
       "    }\n",
       "</style>\n",
       "<table border=\"1\" class=\"dataframe\">\n",
       "  <thead>\n",
       "    <tr style=\"text-align: right;\">\n",
       "      <th></th>\n",
       "      <th>text</th>\n",
       "      <th>fraudulent</th>\n",
       "    </tr>\n",
       "  </thead>\n",
       "  <tbody>\n",
       "    <tr>\n",
       "      <th>0</th>\n",
       "      <td>lead ux ui designer us ny brookyn years experi...</td>\n",
       "      <td>0</td>\n",
       "    </tr>\n",
       "    <tr>\n",
       "      <th>1</th>\n",
       "      <td>technical manager gb cam huntingdon food scien...</td>\n",
       "      <td>0</td>\n",
       "    </tr>\n",
       "    <tr>\n",
       "      <th>2</th>\n",
       "      <td>quality engineer us oh cincinnati job duties r...</td>\n",
       "      <td>0</td>\n",
       "    </tr>\n",
       "    <tr>\n",
       "      <th>3</th>\n",
       "      <td>international broadcaster lao service us dc wa...</td>\n",
       "      <td>0</td>\n",
       "    </tr>\n",
       "    <tr>\n",
       "      <th>4</th>\n",
       "      <td>distribution specialist nl nb eindhoven experi...</td>\n",
       "      <td>0</td>\n",
       "    </tr>\n",
       "    <tr>\n",
       "      <th>5</th>\n",
       "      <td>insurance agent us pa reading mentioned mentio...</td>\n",
       "      <td>0</td>\n",
       "    </tr>\n",
       "    <tr>\n",
       "      <th>6</th>\n",
       "      <td>chief commercial officer us ny requisite capab...</td>\n",
       "      <td>0</td>\n",
       "    </tr>\n",
       "    <tr>\n",
       "      <th>7</th>\n",
       "      <td>ui designer us tx austin bachelor’s degree gra...</td>\n",
       "      <td>0</td>\n",
       "    </tr>\n",
       "    <tr>\n",
       "      <th>8</th>\n",
       "      <td>fiinovation post relationship manager dl new d...</td>\n",
       "      <td>0</td>\n",
       "    </tr>\n",
       "    <tr>\n",
       "      <th>9</th>\n",
       "      <td>account management intern gb good eye detail p...</td>\n",
       "      <td>0</td>\n",
       "    </tr>\n",
       "  </tbody>\n",
       "</table>\n",
       "</div>"
      ],
      "text/plain": [
       "                                                text  fraudulent\n",
       "0  lead ux ui designer us ny brookyn years experi...           0\n",
       "1  technical manager gb cam huntingdon food scien...           0\n",
       "2  quality engineer us oh cincinnati job duties r...           0\n",
       "3  international broadcaster lao service us dc wa...           0\n",
       "4  distribution specialist nl nb eindhoven experi...           0\n",
       "5  insurance agent us pa reading mentioned mentio...           0\n",
       "6  chief commercial officer us ny requisite capab...           0\n",
       "7  ui designer us tx austin bachelor’s degree gra...           0\n",
       "8  fiinovation post relationship manager dl new d...           0\n",
       "9  account management intern gb good eye detail p...           0"
      ]
     },
     "execution_count": 24,
     "metadata": {},
     "output_type": "execute_result"
    }
   ],
   "source": [
    "job_df_clean_no_sw.head(10)"
   ]
  },
  {
   "cell_type": "code",
   "execution_count": 25,
   "id": "9b10161f",
   "metadata": {},
   "outputs": [
    {
     "data": {
      "text/html": [
       "<div>\n",
       "<style scoped>\n",
       "    .dataframe tbody tr th:only-of-type {\n",
       "        vertical-align: middle;\n",
       "    }\n",
       "\n",
       "    .dataframe tbody tr th {\n",
       "        vertical-align: top;\n",
       "    }\n",
       "\n",
       "    .dataframe thead th {\n",
       "        text-align: right;\n",
       "    }\n",
       "</style>\n",
       "<table border=\"1\" class=\"dataframe\">\n",
       "  <thead>\n",
       "    <tr style=\"text-align: right;\">\n",
       "      <th></th>\n",
       "      <th>text</th>\n",
       "      <th>fraudulent</th>\n",
       "    </tr>\n",
       "  </thead>\n",
       "  <tbody>\n",
       "    <tr>\n",
       "      <th>0</th>\n",
       "      <td>lead ux / ui designer us, ny, brookyn + years ...</td>\n",
       "      <td>0</td>\n",
       "    </tr>\n",
       "    <tr>\n",
       "      <th>1</th>\n",
       "      <td>technical manager gb, cam, huntingdon food sci...</td>\n",
       "      <td>0</td>\n",
       "    </tr>\n",
       "    <tr>\n",
       "      <th>2</th>\n",
       "      <td>quality engineer us, oh, cincinnati job duties...</td>\n",
       "      <td>0</td>\n",
       "    </tr>\n",
       "    <tr>\n",
       "      <th>3</th>\n",
       "      <td>international broadcaster, lao service us, dc,...</td>\n",
       "      <td>0</td>\n",
       "    </tr>\n",
       "    <tr>\n",
       "      <th>4</th>\n",
       "      <td>distribution specialist nl, nb, eindhoven expe...</td>\n",
       "      <td>0</td>\n",
       "    </tr>\n",
       "    <tr>\n",
       "      <th>5</th>\n",
       "      <td>insurance agent us, pa, reading not mentioned ...</td>\n",
       "      <td>0</td>\n",
       "    </tr>\n",
       "    <tr>\n",
       "      <th>6</th>\n",
       "      <td>chief commercial officer us, ny, requisite cap...</td>\n",
       "      <td>0</td>\n",
       "    </tr>\n",
       "    <tr>\n",
       "      <th>7</th>\n",
       "      <td>ui designer us, tx, austin bachelor’s degree i...</td>\n",
       "      <td>0</td>\n",
       "    </tr>\n",
       "    <tr>\n",
       "      <th>8</th>\n",
       "      <td>fiinovation - post for relationship manager in...</td>\n",
       "      <td>0</td>\n",
       "    </tr>\n",
       "    <tr>\n",
       "      <th>9</th>\n",
       "      <td>account management intern gb, , a good eye for...</td>\n",
       "      <td>0</td>\n",
       "    </tr>\n",
       "  </tbody>\n",
       "</table>\n",
       "</div>"
      ],
      "text/plain": [
       "                                                text  fraudulent\n",
       "0  lead ux / ui designer us, ny, brookyn + years ...           0\n",
       "1  technical manager gb, cam, huntingdon food sci...           0\n",
       "2  quality engineer us, oh, cincinnati job duties...           0\n",
       "3  international broadcaster, lao service us, dc,...           0\n",
       "4  distribution specialist nl, nb, eindhoven expe...           0\n",
       "5  insurance agent us, pa, reading not mentioned ...           0\n",
       "6  chief commercial officer us, ny, requisite cap...           0\n",
       "7  ui designer us, tx, austin bachelor’s degree i...           0\n",
       "8  fiinovation - post for relationship manager in...           0\n",
       "9  account management intern gb, , a good eye for...           0"
      ]
     },
     "execution_count": 25,
     "metadata": {},
     "output_type": "execute_result"
    }
   ],
   "source": [
    "# don't remove stop words and punctuation, techically better for BERT\n",
    "\n",
    "job_df_clean_sw = job_df_clean.copy()\n",
    "job_df_clean_sw[\"text\"] = job_df_clean[\"text\"].apply(preprocess)\n",
    "job_df_clean_sw.head(10)\n"
   ]
  },
  {
   "cell_type": "code",
   "execution_count": 26,
   "id": "9c906b24",
   "metadata": {},
   "outputs": [
    {
     "data": {
      "text/html": [
       "<div>\n",
       "<style scoped>\n",
       "    .dataframe tbody tr th:only-of-type {\n",
       "        vertical-align: middle;\n",
       "    }\n",
       "\n",
       "    .dataframe tbody tr th {\n",
       "        vertical-align: top;\n",
       "    }\n",
       "\n",
       "    .dataframe thead th {\n",
       "        text-align: right;\n",
       "    }\n",
       "</style>\n",
       "<table border=\"1\" class=\"dataframe\">\n",
       "  <thead>\n",
       "    <tr style=\"text-align: right;\">\n",
       "      <th></th>\n",
       "      <th>sms</th>\n",
       "      <th>label</th>\n",
       "    </tr>\n",
       "  </thead>\n",
       "  <tbody>\n",
       "    <tr>\n",
       "      <th>0</th>\n",
       "      <td>go jurong point crazy available bugis n great ...</td>\n",
       "      <td>0</td>\n",
       "    </tr>\n",
       "    <tr>\n",
       "      <th>1</th>\n",
       "      <td>ok lar joking wif u oni</td>\n",
       "      <td>0</td>\n",
       "    </tr>\n",
       "    <tr>\n",
       "      <th>2</th>\n",
       "      <td>free entry wkly comp win fa cup final tkts st ...</td>\n",
       "      <td>1</td>\n",
       "    </tr>\n",
       "    <tr>\n",
       "      <th>3</th>\n",
       "      <td>u dun say early hor u c already say</td>\n",
       "      <td>0</td>\n",
       "    </tr>\n",
       "    <tr>\n",
       "      <th>4</th>\n",
       "      <td>nah think goes usf lives around though</td>\n",
       "      <td>0</td>\n",
       "    </tr>\n",
       "    <tr>\n",
       "      <th>5</th>\n",
       "      <td>freemsg hey darling week word back like fun st...</td>\n",
       "      <td>1</td>\n",
       "    </tr>\n",
       "    <tr>\n",
       "      <th>6</th>\n",
       "      <td>even brother like speak treat like aids patent</td>\n",
       "      <td>0</td>\n",
       "    </tr>\n",
       "    <tr>\n",
       "      <th>7</th>\n",
       "      <td>per request melle melle oru minnaminunginte nu...</td>\n",
       "      <td>0</td>\n",
       "    </tr>\n",
       "    <tr>\n",
       "      <th>8</th>\n",
       "      <td>winner valued network customer selected receiv...</td>\n",
       "      <td>1</td>\n",
       "    </tr>\n",
       "    <tr>\n",
       "      <th>9</th>\n",
       "      <td>mobile months u r entitled update latest colou...</td>\n",
       "      <td>1</td>\n",
       "    </tr>\n",
       "  </tbody>\n",
       "</table>\n",
       "</div>"
      ],
      "text/plain": [
       "                                                 sms  label\n",
       "0  go jurong point crazy available bugis n great ...      0\n",
       "1                            ok lar joking wif u oni      0\n",
       "2  free entry wkly comp win fa cup final tkts st ...      1\n",
       "3                u dun say early hor u c already say      0\n",
       "4             nah think goes usf lives around though      0\n",
       "5  freemsg hey darling week word back like fun st...      1\n",
       "6     even brother like speak treat like aids patent      0\n",
       "7  per request melle melle oru minnaminunginte nu...      0\n",
       "8  winner valued network customer selected receiv...      1\n",
       "9  mobile months u r entitled update latest colou...      1"
      ]
     },
     "execution_count": 26,
     "metadata": {},
     "output_type": "execute_result"
    }
   ],
   "source": [
    "# remove stop words and punctuation\n",
    "sms_df_clean_no_sw = sms_df.copy()\n",
    "sms_df_clean_no_sw[\"sms\"] =sms_df[\"sms\"].apply(preprocess_remove_sw_punc)\n",
    "sms_df_clean_no_sw.head(10)"
   ]
  },
  {
   "cell_type": "code",
   "execution_count": 27,
   "id": "1fa6b8d8",
   "metadata": {},
   "outputs": [
    {
     "data": {
      "text/html": [
       "<div>\n",
       "<style scoped>\n",
       "    .dataframe tbody tr th:only-of-type {\n",
       "        vertical-align: middle;\n",
       "    }\n",
       "\n",
       "    .dataframe tbody tr th {\n",
       "        vertical-align: top;\n",
       "    }\n",
       "\n",
       "    .dataframe thead th {\n",
       "        text-align: right;\n",
       "    }\n",
       "</style>\n",
       "<table border=\"1\" class=\"dataframe\">\n",
       "  <thead>\n",
       "    <tr style=\"text-align: right;\">\n",
       "      <th></th>\n",
       "      <th>sms</th>\n",
       "      <th>label</th>\n",
       "    </tr>\n",
       "  </thead>\n",
       "  <tbody>\n",
       "    <tr>\n",
       "      <th>0</th>\n",
       "      <td>go until jurong point, crazy.. available only ...</td>\n",
       "      <td>0</td>\n",
       "    </tr>\n",
       "    <tr>\n",
       "      <th>1</th>\n",
       "      <td>ok lar... joking wif u oni...</td>\n",
       "      <td>0</td>\n",
       "    </tr>\n",
       "    <tr>\n",
       "      <th>2</th>\n",
       "      <td>free entry in a wkly comp to win fa cup final ...</td>\n",
       "      <td>1</td>\n",
       "    </tr>\n",
       "    <tr>\n",
       "      <th>3</th>\n",
       "      <td>u dun say so early hor... u c already then say...</td>\n",
       "      <td>0</td>\n",
       "    </tr>\n",
       "    <tr>\n",
       "      <th>4</th>\n",
       "      <td>nah i don't think he goes to usf, he lives aro...</td>\n",
       "      <td>0</td>\n",
       "    </tr>\n",
       "    <tr>\n",
       "      <th>5</th>\n",
       "      <td>freemsg hey there darling it's been week's now...</td>\n",
       "      <td>1</td>\n",
       "    </tr>\n",
       "    <tr>\n",
       "      <th>6</th>\n",
       "      <td>even my brother is not like to speak with me. ...</td>\n",
       "      <td>0</td>\n",
       "    </tr>\n",
       "    <tr>\n",
       "      <th>7</th>\n",
       "      <td>as per your request 'melle melle (oru minnamin...</td>\n",
       "      <td>0</td>\n",
       "    </tr>\n",
       "    <tr>\n",
       "      <th>8</th>\n",
       "      <td>winner!! as a valued network customer you have...</td>\n",
       "      <td>1</td>\n",
       "    </tr>\n",
       "    <tr>\n",
       "      <th>9</th>\n",
       "      <td>had your mobile months or more? u r entitled t...</td>\n",
       "      <td>1</td>\n",
       "    </tr>\n",
       "  </tbody>\n",
       "</table>\n",
       "</div>"
      ],
      "text/plain": [
       "                                                 sms  label\n",
       "0  go until jurong point, crazy.. available only ...      0\n",
       "1                      ok lar... joking wif u oni...      0\n",
       "2  free entry in a wkly comp to win fa cup final ...      1\n",
       "3  u dun say so early hor... u c already then say...      0\n",
       "4  nah i don't think he goes to usf, he lives aro...      0\n",
       "5  freemsg hey there darling it's been week's now...      1\n",
       "6  even my brother is not like to speak with me. ...      0\n",
       "7  as per your request 'melle melle (oru minnamin...      0\n",
       "8  winner!! as a valued network customer you have...      1\n",
       "9  had your mobile months or more? u r entitled t...      1"
      ]
     },
     "execution_count": 27,
     "metadata": {},
     "output_type": "execute_result"
    }
   ],
   "source": [
    "# keeping stop words and punctuation, techically better for BERT\n",
    "sms_df_clean_sw = sms_df.copy()\n",
    "sms_df_clean_sw[\"sms\"] =sms_df[\"sms\"].apply(preprocess)\n",
    "sms_df_clean_sw.head(10)"
   ]
  },
  {
   "cell_type": "code",
   "execution_count": 28,
   "id": "547c4d01",
   "metadata": {},
   "outputs": [
    {
     "data": {
      "text/html": [
       "<div>\n",
       "<style scoped>\n",
       "    .dataframe tbody tr th:only-of-type {\n",
       "        vertical-align: middle;\n",
       "    }\n",
       "\n",
       "    .dataframe tbody tr th {\n",
       "        vertical-align: top;\n",
       "    }\n",
       "\n",
       "    .dataframe thead th {\n",
       "        text-align: right;\n",
       "    }\n",
       "</style>\n",
       "<table border=\"1\" class=\"dataframe\">\n",
       "  <thead>\n",
       "    <tr style=\"text-align: right;\">\n",
       "      <th></th>\n",
       "      <th>label</th>\n",
       "      <th>text</th>\n",
       "    </tr>\n",
       "  </thead>\n",
       "  <tbody>\n",
       "    <tr>\n",
       "      <th>0</th>\n",
       "      <td>1</td>\n",
       "      <td>viiiiiiagraaaa ones want make scream prodigy s...</td>\n",
       "    </tr>\n",
       "    <tr>\n",
       "      <th>1</th>\n",
       "      <td>0</td>\n",
       "      <td>got ice thought look az original message ice o...</td>\n",
       "    </tr>\n",
       "    <tr>\n",
       "      <th>2</th>\n",
       "      <td>1</td>\n",
       "      <td>yo ur wom ne eds escapenumber ch n b e th n f ...</td>\n",
       "    </tr>\n",
       "    <tr>\n",
       "      <th>3</th>\n",
       "      <td>1</td>\n",
       "      <td>start increasing odds success live sexually he...</td>\n",
       "    </tr>\n",
       "    <tr>\n",
       "      <th>4</th>\n",
       "      <td>0</td>\n",
       "      <td>author jra date escapenumber escapenumber esca...</td>\n",
       "    </tr>\n",
       "    <tr>\n",
       "      <th>5</th>\n",
       "      <td>1</td>\n",
       "      <td>img src escapenumberd http loan co kr img emai...</td>\n",
       "    </tr>\n",
       "    <tr>\n",
       "      <th>6</th>\n",
       "      <td>0</td>\n",
       "      <td>attached weekly deal report lex carroll enron ...</td>\n",
       "    </tr>\n",
       "    <tr>\n",
       "      <th>7</th>\n",
       "      <td>0</td>\n",
       "      <td>version created earlier afternoon using ena sh...</td>\n",
       "    </tr>\n",
       "    <tr>\n",
       "      <th>8</th>\n",
       "      <td>0</td>\n",
       "      <td>pulp writing printing paper escapenumber escap...</td>\n",
       "    </tr>\n",
       "    <tr>\n",
       "      <th>9</th>\n",
       "      <td>0</td>\n",
       "      <td>stefan metze metzmacher writes stefan metze me...</td>\n",
       "    </tr>\n",
       "  </tbody>\n",
       "</table>\n",
       "</div>"
      ],
      "text/plain": [
       "   label                                               text\n",
       "0      1  viiiiiiagraaaa ones want make scream prodigy s...\n",
       "1      0  got ice thought look az original message ice o...\n",
       "2      1  yo ur wom ne eds escapenumber ch n b e th n f ...\n",
       "3      1  start increasing odds success live sexually he...\n",
       "4      0  author jra date escapenumber escapenumber esca...\n",
       "5      1  img src escapenumberd http loan co kr img emai...\n",
       "6      0  attached weekly deal report lex carroll enron ...\n",
       "7      0  version created earlier afternoon using ena sh...\n",
       "8      0  pulp writing printing paper escapenumber escap...\n",
       "9      0  stefan metze metzmacher writes stefan metze me..."
      ]
     },
     "execution_count": 28,
     "metadata": {},
     "output_type": "execute_result"
    }
   ],
   "source": [
    "# remove stop words and punctuation\n",
    "email_df_clean_no_sw = email_df.copy()\n",
    "email_df_clean_no_sw[\"text\"] = email_df[\"text\"].apply(preprocess_remove_sw_punc)\n",
    "email_df_clean_no_sw.head(10)"
   ]
  },
  {
   "cell_type": "code",
   "execution_count": 29,
   "id": "b0c9ec76",
   "metadata": {},
   "outputs": [
    {
     "data": {
      "text/html": [
       "<div>\n",
       "<style scoped>\n",
       "    .dataframe tbody tr th:only-of-type {\n",
       "        vertical-align: middle;\n",
       "    }\n",
       "\n",
       "    .dataframe tbody tr th {\n",
       "        vertical-align: top;\n",
       "    }\n",
       "\n",
       "    .dataframe thead th {\n",
       "        text-align: right;\n",
       "    }\n",
       "</style>\n",
       "<table border=\"1\" class=\"dataframe\">\n",
       "  <thead>\n",
       "    <tr style=\"text-align: right;\">\n",
       "      <th></th>\n",
       "      <th>label</th>\n",
       "      <th>text</th>\n",
       "    </tr>\n",
       "  </thead>\n",
       "  <tbody>\n",
       "    <tr>\n",
       "      <th>0</th>\n",
       "      <td>1</td>\n",
       "      <td>viiiiiiagraaaa only for the ones that want to ...</td>\n",
       "    </tr>\n",
       "    <tr>\n",
       "      <th>1</th>\n",
       "      <td>0</td>\n",
       "      <td>got ice thought look az original message ice o...</td>\n",
       "    </tr>\n",
       "    <tr>\n",
       "      <th>2</th>\n",
       "      <td>1</td>\n",
       "      <td>yo ur wom an ne eds an escapenumber in ch ma n...</td>\n",
       "    </tr>\n",
       "    <tr>\n",
       "      <th>3</th>\n",
       "      <td>1</td>\n",
       "      <td>start increasing your odds of success &amp; live s...</td>\n",
       "    </tr>\n",
       "    <tr>\n",
       "      <th>4</th>\n",
       "      <td>0</td>\n",
       "      <td>author jra date escapenumber escapenumber esca...</td>\n",
       "    </tr>\n",
       "    <tr>\n",
       "      <th>5</th>\n",
       "      <td>1</td>\n",
       "      <td>img src escapenumberd http loan co kr img emai...</td>\n",
       "    </tr>\n",
       "    <tr>\n",
       "      <th>6</th>\n",
       "      <td>0</td>\n",
       "      <td>attached is the weekly deal report from / / - ...</td>\n",
       "    </tr>\n",
       "    <tr>\n",
       "      <th>7</th>\n",
       "      <td>0</td>\n",
       "      <td>this is the version that we created earlier th...</td>\n",
       "    </tr>\n",
       "    <tr>\n",
       "      <th>8</th>\n",
       "      <td>0</td>\n",
       "      <td>pulp writing printing paper escapenumber escap...</td>\n",
       "    </tr>\n",
       "    <tr>\n",
       "      <th>9</th>\n",
       "      <td>0</td>\n",
       "      <td>stefan metze metzmacher writes stefan metze me...</td>\n",
       "    </tr>\n",
       "  </tbody>\n",
       "</table>\n",
       "</div>"
      ],
      "text/plain": [
       "   label                                               text\n",
       "0      1  viiiiiiagraaaa only for the ones that want to ...\n",
       "1      0  got ice thought look az original message ice o...\n",
       "2      1  yo ur wom an ne eds an escapenumber in ch ma n...\n",
       "3      1  start increasing your odds of success & live s...\n",
       "4      0  author jra date escapenumber escapenumber esca...\n",
       "5      1  img src escapenumberd http loan co kr img emai...\n",
       "6      0  attached is the weekly deal report from / / - ...\n",
       "7      0  this is the version that we created earlier th...\n",
       "8      0  pulp writing printing paper escapenumber escap...\n",
       "9      0  stefan metze metzmacher writes stefan metze me..."
      ]
     },
     "execution_count": 29,
     "metadata": {},
     "output_type": "execute_result"
    }
   ],
   "source": [
    "# keeping stop words and punctuation, techically better for BERT\n",
    "email_df_clean_sw = email_df.copy()\n",
    "email_df_clean_sw[\"text\"] =email_df[\"text\"].apply(preprocess)\n",
    "email_df_clean_sw.head(10)"
   ]
  },
  {
   "cell_type": "markdown",
   "id": "40ab2a61",
   "metadata": {},
   "source": [
    "Let's split the data into train, validation, and test sets. Additional testing will be done using job postings scrapped off the Web."
   ]
  },
  {
   "cell_type": "code",
   "execution_count": 30,
   "id": "853eab53",
   "metadata": {},
   "outputs": [
    {
     "name": "stdout",
     "output_type": "stream",
     "text": [
      "Training set size (job postings): 14303\n",
      "Validation set size (job postings): 1788\n",
      "Test set size (job postings): 1788\n"
     ]
    }
   ],
   "source": [
    "from sklearn.model_selection import train_test_split\n",
    "\n",
    "X_job = job_df_clean_sw['text'] # features\n",
    "y_job = job_df_clean_sw['fraudulent'] # labels\n",
    "\n",
    "# First split: 80% train, 20% temp (validation + test)\n",
    "X_train_job, X_temp_job, y_train_job, y_temp_job = train_test_split( X_job, y_job, test_size=0.2, random_state=42, stratify=y_job)\n",
    "\n",
    "# Second split: 10% validation, 10% test \n",
    "X_val_job, X_test_job, y_val_job, y_test_job = train_test_split(X_temp_job, y_temp_job, test_size=0.5, random_state=42, stratify=y_temp_job)\n",
    "\n",
    "print(f\"Training set size (job postings): {len(X_train_job)}\")\n",
    "print(f\"Validation set size (job postings): {len(X_val_job)}\")\n",
    "print(f\"Test set size (job postings): {len(X_test_job)}\")"
   ]
  },
  {
   "cell_type": "code",
   "execution_count": 31,
   "id": "177bb35e",
   "metadata": {},
   "outputs": [
    {
     "name": "stdout",
     "output_type": "stream",
     "text": [
      "Training set size (SMS): 4459\n",
      "Validation set size (SMS): 557\n",
      "Test set size (SMS): 558\n"
     ]
    }
   ],
   "source": [
    "\n",
    "X_sms = sms_df_clean_sw['sms']  # features\n",
    "y_sms = sms_df_clean_sw['label']  # labels\n",
    "\n",
    "X_train_sms, X_temp_sms, y_train_sms, y_temp_sms = train_test_split(X_sms, y_sms, test_size=0.2, random_state=42, stratify=y_sms)\n",
    "\n",
    "X_val_sms, X_test_sms, y_val_sms, y_test_sms = train_test_split(X_temp_sms, y_temp_sms, test_size=0.5, random_state=42, stratify=y_temp_sms)\n",
    "\n",
    "print(f\"Training set size (SMS): {len(X_train_sms)}\")\n",
    "print(f\"Validation set size (SMS): {len(X_val_sms)}\")\n",
    "print(f\"Test set size (SMS): {len(X_test_sms)}\")"
   ]
  },
  {
   "cell_type": "code",
   "execution_count": 32,
   "id": "4256ea20",
   "metadata": {},
   "outputs": [
    {
     "name": "stdout",
     "output_type": "stream",
     "text": [
      "Training set size (Email): 155080\n",
      "Validation set size (Email): 19385\n",
      "Test set size (Email): 19385\n"
     ]
    }
   ],
   "source": [
    "\n",
    "X_email = email_df_clean_sw['text']  # features\n",
    "y_email = email_df_clean_sw['label']  # labels\n",
    "\n",
    "X_train_email, X_temp_email, y_train_email, y_temp_email = train_test_split(X_email, y_email, test_size=0.2, random_state=42, stratify=y_email)\n",
    "\n",
    "X_val_email, X_test_email, y_val_email, y_test_email = train_test_split(X_temp_email, y_temp_email, test_size=0.5, random_state=42, stratify=y_temp_email)\n",
    "\n",
    "print(f\"Training set size (Email): {len(X_train_email)}\")\n",
    "print(f\"Validation set size (Email): {len(X_val_email)}\")\n",
    "print(f\"Test set size (Email): {len(X_test_email)}\")"
   ]
  },
  {
   "cell_type": "markdown",
   "id": "29318d97",
   "metadata": {},
   "source": [
    "Since our data in job postings and sms spam datasets is skewed, we've considered undersampling or oversampling. However, after undersampling we have too little data, and oversampling has a high risk of overfitting, so we decided to keep it as it is in the dataset."
   ]
  },
  {
   "cell_type": "code",
   "execution_count": 33,
   "id": "1abfa647",
   "metadata": {},
   "outputs": [],
   "source": [
    "# from imblearn.under_sampling import RandomUnderSampler\n",
    "# from collections import Counter"
   ]
  },
  {
   "cell_type": "code",
   "execution_count": 34,
   "id": "6a8ad451",
   "metadata": {},
   "outputs": [],
   "source": [
    "# rus = RandomUnderSampler(random_state=42)\n",
    "# X_resampled, y_resampled = rus.fit_resample(X_train.values.reshape(-1, 1), y_train)\n",
    "# print(f\"Original dataset shape: {Counter(y_train)}\")\n",
    "# print(f\"Resampled dataset shape: {Counter(y_resampled)}\")"
   ]
  },
  {
   "cell_type": "markdown",
   "id": "0a112e2c",
   "metadata": {},
   "source": [
    "Now, let's tokenize our train and validation data using BERT's toeknizers."
   ]
  },
  {
   "cell_type": "code",
   "execution_count": 35,
   "id": "3ef88722",
   "metadata": {},
   "outputs": [
    {
     "name": "stderr",
     "output_type": "stream",
     "text": [
      "2025-04-29 15:36:41.355510: I tensorflow/core/platform/cpu_feature_guard.cc:210] This TensorFlow binary is optimized to use available CPU instructions in performance-critical operations.\n",
      "To enable the following instructions: AVX2 FMA, in other operations, rebuild TensorFlow with the appropriate compiler flags.\n"
     ]
    }
   ],
   "source": [
    "from transformers import BertModel, BertTokenizer\n",
    "import torch"
   ]
  },
  {
   "cell_type": "code",
   "execution_count": 36,
   "id": "0ebc3144",
   "metadata": {},
   "outputs": [],
   "source": [
    "tokenizer = BertTokenizer.from_pretrained('bert-base-uncased')"
   ]
  },
  {
   "cell_type": "code",
   "execution_count": 37,
   "id": "3b1f2202",
   "metadata": {},
   "outputs": [],
   "source": [
    "model = BertModel.from_pretrained('bert-base-uncased')"
   ]
  },
  {
   "cell_type": "markdown",
   "id": "d0bc8ebf",
   "metadata": {},
   "source": [
    "`tokenize_data` function takes an input df/series, converts it to a list, tokenizer (in our case BERT's tokenizer) and max sequence length. Applies truncation and padding to ensure uniform sequence lengths and returns tokenized data as PyTorch sensors."
   ]
  },
  {
   "cell_type": "code",
   "execution_count": 38,
   "id": "7300712f",
   "metadata": {},
   "outputs": [],
   "source": [
    "def tokenize_data(text, tokenizer, max_length=256):\n",
    "\treturn tokenizer(\n",
    "\t\ttext.tolist(),\n",
    "\t\tadd_special_tokens=True,\n",
    "\t\tpadding=True,\n",
    "\t\ttruncation=True,\n",
    "\t\tmax_length=max_length,\n",
    "\t\treturn_tensors='pt'\n",
    "\t)"
   ]
  },
  {
   "cell_type": "code",
   "execution_count": 39,
   "id": "4fddcc17",
   "metadata": {},
   "outputs": [],
   "source": [
    "train_encodings_job = tokenize_data(X_train_job, tokenizer)"
   ]
  },
  {
   "cell_type": "code",
   "execution_count": 40,
   "id": "20d0c8f2",
   "metadata": {},
   "outputs": [
    {
     "name": "stdout",
     "output_type": "stream",
     "text": [
      "{'input_ids': tensor([[  101,  8013,  2326,  ...,     0,     0,     0],\n",
      "        [  101,  2902,  2923,  ...,     0,     0,     0],\n",
      "        [  101,  8013,  2490,  ...,     0,     0,     0],\n",
      "        ...,\n",
      "        [  101, 16380,  3026,  ..., 20116,  2015,   102],\n",
      "        [  101,  2503,  4341,  ...,     0,     0,     0],\n",
      "        [  101, 13866,  3454,  ...,     0,     0,     0]]), 'token_type_ids': tensor([[0, 0, 0,  ..., 0, 0, 0],\n",
      "        [0, 0, 0,  ..., 0, 0, 0],\n",
      "        [0, 0, 0,  ..., 0, 0, 0],\n",
      "        ...,\n",
      "        [0, 0, 0,  ..., 0, 0, 0],\n",
      "        [0, 0, 0,  ..., 0, 0, 0],\n",
      "        [0, 0, 0,  ..., 0, 0, 0]]), 'attention_mask': tensor([[1, 1, 1,  ..., 0, 0, 0],\n",
      "        [1, 1, 1,  ..., 0, 0, 0],\n",
      "        [1, 1, 1,  ..., 0, 0, 0],\n",
      "        ...,\n",
      "        [1, 1, 1,  ..., 1, 1, 1],\n",
      "        [1, 1, 1,  ..., 0, 0, 0],\n",
      "        [1, 1, 1,  ..., 0, 0, 0]])}\n"
     ]
    }
   ],
   "source": [
    "print(train_encodings_job)"
   ]
  },
  {
   "cell_type": "markdown",
   "id": "13391b0e",
   "metadata": {},
   "source": [
    "input_ids = token ids for each word, attention_mask = padding (0) or actual text (1)"
   ]
  },
  {
   "cell_type": "code",
   "execution_count": 41,
   "id": "ed6c30e9",
   "metadata": {},
   "outputs": [],
   "source": [
    "val_encodings_job = tokenize_data(X_val_job, tokenizer)"
   ]
  },
  {
   "cell_type": "code",
   "execution_count": 42,
   "id": "25d9da71",
   "metadata": {},
   "outputs": [
    {
     "name": "stdout",
     "output_type": "stream",
     "text": [
      "{'input_ids': tensor([[  101,  4007,  1053,  ...,  1012,  9059,   102],\n",
      "        [  101,  4031,  7601,  ...,     0,     0,     0],\n",
      "        [  101,  3026,  4007,  ...,     0,     0,     0],\n",
      "        ...,\n",
      "        [  101,  7233,  8325,  ...,     0,     0,     0],\n",
      "        [  101,  7861,  3215,  ...,  2740,  2729,   102],\n",
      "        [  101,  3361, 11486,  ...,     0,     0,     0]]), 'token_type_ids': tensor([[0, 0, 0,  ..., 0, 0, 0],\n",
      "        [0, 0, 0,  ..., 0, 0, 0],\n",
      "        [0, 0, 0,  ..., 0, 0, 0],\n",
      "        ...,\n",
      "        [0, 0, 0,  ..., 0, 0, 0],\n",
      "        [0, 0, 0,  ..., 0, 0, 0],\n",
      "        [0, 0, 0,  ..., 0, 0, 0]]), 'attention_mask': tensor([[1, 1, 1,  ..., 1, 1, 1],\n",
      "        [1, 1, 1,  ..., 0, 0, 0],\n",
      "        [1, 1, 1,  ..., 0, 0, 0],\n",
      "        ...,\n",
      "        [1, 1, 1,  ..., 0, 0, 0],\n",
      "        [1, 1, 1,  ..., 1, 1, 1],\n",
      "        [1, 1, 1,  ..., 0, 0, 0]])}\n"
     ]
    }
   ],
   "source": [
    "print(val_encodings_job)"
   ]
  },
  {
   "cell_type": "code",
   "execution_count": 43,
   "id": "a92b7df6",
   "metadata": {},
   "outputs": [
    {
     "name": "stdout",
     "output_type": "stream",
     "text": [
      "Train input IDs shape: torch.Size([14303, 256])\n",
      "Train attention masks shape: torch.Size([14303, 256])\n",
      "Validation input IDs shape: torch.Size([1788, 256])\n",
      "Validation attention masks shape: torch.Size([1788, 256])\n"
     ]
    }
   ],
   "source": [
    "print(f\"Train input IDs shape: {train_encodings_job['input_ids'].shape}\")\n",
    "print(f\"Train attention masks shape: {train_encodings_job['attention_mask'].shape}\")\n",
    "print(f\"Validation input IDs shape: {val_encodings_job['input_ids'].shape}\")\n",
    "print(f\"Validation attention masks shape: {val_encodings_job['attention_mask'].shape}\")"
   ]
  },
  {
   "cell_type": "code",
   "execution_count": 44,
   "id": "04fb59a8",
   "metadata": {},
   "outputs": [
    {
     "name": "stdout",
     "output_type": "stream",
     "text": [
      "Train input IDs shape: torch.Size([4459, 234])\n",
      "Train attention masks shape: torch.Size([4459, 234])\n",
      "Validation input IDs shape: torch.Size([557, 125])\n",
      "Validation attention masks shape: torch.Size([557, 125])\n"
     ]
    }
   ],
   "source": [
    "train_encodings_sms = tokenize_data(X_train_sms, tokenizer)\n",
    "val_encodings_sms = tokenize_data(X_val_sms, tokenizer)\n",
    "print(f\"Train input IDs shape: {train_encodings_sms['input_ids'].shape}\")\n",
    "print(f\"Train attention masks shape: {train_encodings_sms['attention_mask'].shape}\")\n",
    "print(f\"Validation input IDs shape: {val_encodings_sms['input_ids'].shape}\")\n",
    "print(f\"Validation attention masks shape: {val_encodings_sms['attention_mask'].shape}\")"
   ]
  },
  {
   "cell_type": "code",
   "execution_count": null,
   "id": "4f5b8ec0",
   "metadata": {},
   "outputs": [],
   "source": [
    "train_encodings_email = tokenize_data(X_train_email, tokenizer)\n",
    "val_encodings_email = tokenize_data(X_val_email, tokenizer)\n",
    "print(f\"Train input IDs shape: {train_encodings_email['input_ids'].shape}\")\n",
    "print(f\"Train attention masks shape: {train_encodings_email['attention_mask'].shape}\")\n",
    "print(f\"Validation input IDs shape: {val_encodings_email['input_ids'].shape}\")\n",
    "print(f\"Validation attention masks shape: {val_encodings_email['attention_mask'].shape}\")"
   ]
  }
 ],
 "metadata": {
  "kernelspec": {
   "display_name": "base",
   "language": "python",
   "name": "python3"
  },
  "language_info": {
   "codemirror_mode": {
    "name": "ipython",
    "version": 3
   },
   "file_extension": ".py",
   "mimetype": "text/x-python",
   "name": "python",
   "nbconvert_exporter": "python",
   "pygments_lexer": "ipython3",
   "version": "3.11.5"
  }
 },
 "nbformat": 4,
 "nbformat_minor": 5
}
